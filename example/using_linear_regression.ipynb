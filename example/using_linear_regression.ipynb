{
 "cells": [
  {
   "cell_type": "markdown",
   "id": "15039136",
   "metadata": {},
   "source": [
    "# Линейная регрессия в PySpark"
   ]
  },
  {
   "cell_type": "markdown",
   "id": "78d13a70",
   "metadata": {},
   "source": [
    "## Устанавливаем пакеты"
   ]
  },
  {
   "cell_type": "code",
   "execution_count": 60,
   "id": "e6a25387",
   "metadata": {},
   "outputs": [
    {
     "name": "stdout",
     "output_type": "stream",
     "text": [
      "Requirement already satisfied: pyspark in /home/artyomvyatkin/Documents/oleg_task_1/.venv/lib/python3.12/site-packages (3.5.5)\n",
      "Requirement already satisfied: setuptools in /home/artyomvyatkin/Documents/oleg_task_1/.venv/lib/python3.12/site-packages (80.1.0)\n",
      "Requirement already satisfied: tqdm in /home/artyomvyatkin/Documents/oleg_task_1/.venv/lib/python3.12/site-packages (4.67.1)\n",
      "Requirement already satisfied: numpy in /home/artyomvyatkin/Documents/oleg_task_1/.venv/lib/python3.12/site-packages (2.2.5)\n",
      "Requirement already satisfied: matplotlib in /home/artyomvyatkin/Documents/oleg_task_1/.venv/lib/python3.12/site-packages (3.10.1)\n",
      "Requirement already satisfied: py4j==0.10.9.7 in /home/artyomvyatkin/Documents/oleg_task_1/.venv/lib/python3.12/site-packages (from pyspark) (0.10.9.7)\n",
      "Requirement already satisfied: contourpy>=1.0.1 in /home/artyomvyatkin/Documents/oleg_task_1/.venv/lib/python3.12/site-packages (from matplotlib) (1.3.2)\n",
      "Requirement already satisfied: cycler>=0.10 in /home/artyomvyatkin/Documents/oleg_task_1/.venv/lib/python3.12/site-packages (from matplotlib) (0.12.1)\n",
      "Requirement already satisfied: fonttools>=4.22.0 in /home/artyomvyatkin/Documents/oleg_task_1/.venv/lib/python3.12/site-packages (from matplotlib) (4.57.0)\n",
      "Requirement already satisfied: kiwisolver>=1.3.1 in /home/artyomvyatkin/Documents/oleg_task_1/.venv/lib/python3.12/site-packages (from matplotlib) (1.4.8)\n",
      "Requirement already satisfied: packaging>=20.0 in /home/artyomvyatkin/Documents/oleg_task_1/.venv/lib/python3.12/site-packages (from matplotlib) (25.0)\n",
      "Requirement already satisfied: pillow>=8 in /home/artyomvyatkin/Documents/oleg_task_1/.venv/lib/python3.12/site-packages (from matplotlib) (11.2.1)\n",
      "Requirement already satisfied: pyparsing>=2.3.1 in /home/artyomvyatkin/Documents/oleg_task_1/.venv/lib/python3.12/site-packages (from matplotlib) (3.2.3)\n",
      "Requirement already satisfied: python-dateutil>=2.7 in /home/artyomvyatkin/Documents/oleg_task_1/.venv/lib/python3.12/site-packages (from matplotlib) (2.9.0.post0)\n",
      "Requirement already satisfied: six>=1.5 in /home/artyomvyatkin/Documents/oleg_task_1/.venv/lib/python3.12/site-packages (from python-dateutil>=2.7->matplotlib) (1.17.0)\n"
     ]
    }
   ],
   "source": [
    "!pip install pyspark setuptools tqdm numpy matplotlib"
   ]
  },
  {
   "cell_type": "code",
   "execution_count": 61,
   "id": "9c4314d8",
   "metadata": {},
   "outputs": [],
   "source": [
    "import numpy as np\n",
    "import pandas as pd\n",
    "from pyspark.sql import SparkSession\n",
    "from pyspark.ml.feature import VectorAssembler\n",
    "from pyspark.sql.functions import col\n",
    "from pyspark.ml.regression import LinearRegression\n",
    "from pyspark.sql.types import StructField, IntegerType, StructType, StringType\n",
    "import matplotlib.pyplot as plt\n",
    "\n",
    "seed = 666"
   ]
  },
  {
   "cell_type": "markdown",
   "id": "46f31287",
   "metadata": {},
   "source": [
    "## Подготовка данных"
   ]
  },
  {
   "cell_type": "code",
   "execution_count": 62,
   "id": "918762ac",
   "metadata": {},
   "outputs": [],
   "source": [
    "spark = SparkSession.builder.appName('UsingLinearRegression').getOrCreate()"
   ]
  },
  {
   "cell_type": "markdown",
   "id": "2705d2df",
   "metadata": {},
   "source": [
    "[Данные](https://www.kaggle.com/datasets/nikhil7280/student-performance-multiple-linear-regression)\n",
    "(попробую на небольших)"
   ]
  },
  {
   "cell_type": "code",
   "execution_count": 63,
   "id": "22a433b8",
   "metadata": {},
   "outputs": [
    {
     "name": "stdout",
     "output_type": "stream",
     "text": [
      "+-------+------------------+-----------------+--------------------------+-----------------+--------------------------------+------------------+\n",
      "|summary|     Hours Studied|  Previous Scores|Extracurricular Activities|      Sleep Hours|Sample Question Papers Practiced| Performance Index|\n",
      "+-------+------------------+-----------------+--------------------------+-----------------+--------------------------------+------------------+\n",
      "|  count|             10000|            10000|                     10000|            10000|                           10000|             10000|\n",
      "|   mean|            4.9929|          69.4457|                      NULL|           6.5306|                          4.5833|           55.2248|\n",
      "| stddev|2.5893087961856183|17.34315225104711|                      NULL|1.695862976517708|              2.8673477777081446|19.212557799463337|\n",
      "|    min|                 1|               40|                        No|                4|                               0|              10.0|\n",
      "|    25%|               3.0|             54.0|                      NULL|              5.0|                             2.0|              40.0|\n",
      "|    50%|               5.0|             69.0|                      NULL|              7.0|                             5.0|              55.0|\n",
      "|    75%|               7.0|             85.0|                      NULL|              8.0|                             7.0|              71.0|\n",
      "|    max|                 9|               99|                       Yes|                9|                               9|              99.0|\n",
      "+-------+------------------+-----------------+--------------------------+-----------------+--------------------------------+------------------+\n",
      "\n"
     ]
    }
   ],
   "source": [
    "df = spark.read.option(\"header\",True).csv(\"data/Student_Performance.csv\")\n",
    "df.summary().show()"
   ]
  },
  {
   "cell_type": "code",
   "execution_count": 64,
   "id": "fd3e11fb",
   "metadata": {},
   "outputs": [
    {
     "name": "stdout",
     "output_type": "stream",
     "text": [
      "root\n",
      " |-- Hours Studied: string (nullable = true)\n",
      " |-- Previous Scores: string (nullable = true)\n",
      " |-- Extracurricular Activities: string (nullable = true)\n",
      " |-- Sleep Hours: string (nullable = true)\n",
      " |-- Sample Question Papers Practiced: string (nullable = true)\n",
      " |-- Performance Index: string (nullable = true)\n",
      "\n"
     ]
    }
   ],
   "source": [
    "df.printSchema()"
   ]
  },
  {
   "cell_type": "code",
   "execution_count": 65,
   "id": "9ce6004f",
   "metadata": {},
   "outputs": [
    {
     "name": "stdout",
     "output_type": "stream",
     "text": [
      "root\n",
      " |-- Hours Studied: integer (nullable = true)\n",
      " |-- Previous Scores: integer (nullable = true)\n",
      " |-- Extracurricular Activities: string (nullable = true)\n",
      " |-- Sleep Hours: integer (nullable = true)\n",
      " |-- Sample Question Papers Practiced: integer (nullable = true)\n",
      " |-- Performance Index: integer (nullable = true)\n",
      "\n"
     ]
    }
   ],
   "source": [
    "coltype_map = { \n",
    "    \"Hours Studied\": IntegerType(), \n",
    "    \"Previous Scores\": IntegerType(), \n",
    "    \"Sleep Hours\": IntegerType(), \n",
    "    \"Sample Question Papers Practiced\": IntegerType(), \n",
    "    \"Performance Index\": IntegerType(), \n",
    "} \n",
    "\n",
    "df = df.select([col(c).cast(coltype_map[c]) if c in coltype_map else c for c in df.columns])\n",
    "df.printSchema()"
   ]
  },
  {
   "cell_type": "code",
   "execution_count": 66,
   "id": "3ef7df42",
   "metadata": {},
   "outputs": [],
   "source": [
    "def get_fraction(_df, column, fraction_part=0.1):\n",
    "    return _df.sample(fraction=fraction_part, seed=seed).select(column).rdd.flatMap(lambda x: x).collect()\n",
    "\n",
    "def show_hist_column(_df, column, fraction_part=0.1, bins=10):\n",
    "    plt.hist(get_fraction(df, column, fraction_part=fraction_part), bins=bins)\n",
    "\n",
    "    plt.xlabel(column)\n",
    "    plt.ylabel(\"Frequency\")\n",
    "\n",
    "    plt.show()"
   ]
  },
  {
   "cell_type": "markdown",
   "id": "e45d8623",
   "metadata": {},
   "source": [
    "#### Hours Studied"
   ]
  },
  {
   "cell_type": "code",
   "execution_count": 67,
   "id": "f3056606",
   "metadata": {},
   "outputs": [
    {
     "data": {
      "image/png": "[encoded data removed]",
      "text/plain": [
       "<Figure size 640x480 with 1 Axes>"
      ]
     },
     "metadata": {},
     "output_type": "display_data"
    }
   ],
   "source": [
    "show_hist_column(df, 'Hours Studied', bins=9)"
   ]
  },
  {
   "cell_type": "markdown",
   "id": "005bc57a",
   "metadata": {},
   "source": [
    "#### Previous Scores"
   ]
  },
  {
   "cell_type": "code",
   "execution_count": 68,
   "id": "ebcb0127",
   "metadata": {},
   "outputs": [
    {
     "data": {
      "image/png": "[encoded data removed]",
      "text/plain": [
       "<Figure size 640x480 with 1 Axes>"
      ]
     },
     "metadata": {},
     "output_type": "display_data"
    }
   ],
   "source": [
    "show_hist_column(df, 'Previous Scores')"
   ]
  },
  {
   "cell_type": "code",
   "execution_count": 69,
   "id": "845477cc",
   "metadata": {},
   "outputs": [
    {
     "data": {
      "image/png": "[encoded data removed]",
      "text/plain": [
       "<Figure size 640x480 with 1 Axes>"
      ]
     },
     "metadata": {},
     "output_type": "display_data"
    }
   ],
   "source": [
    "show_hist_column(df, 'Sleep Hours', bins=6)"
   ]
  },
  {
   "cell_type": "code",
   "execution_count": 70,
   "id": "9e00d1ff",
   "metadata": {},
   "outputs": [
    {
     "data": {
      "image/png": "[encoded data removed]",
      "text/plain": [
       "<Figure size 640x480 with 1 Axes>"
      ]
     },
     "metadata": {},
     "output_type": "display_data"
    }
   ],
   "source": [
    "show_hist_column(df, 'Sample Question Papers Practiced')"
   ]
  },
  {
   "cell_type": "markdown",
   "id": "482c9b72",
   "metadata": {},
   "source": [
    "### Feature engineering "
   ]
  },
  {
   "cell_type": "code",
   "execution_count": 72,
   "id": "b9f81638",
   "metadata": {},
   "outputs": [
    {
     "ename": "NotImplementedError",
     "evalue": ":(",
     "output_type": "error",
     "traceback": [
      "\u001b[31m---------------------------------------------------------------------------\u001b[39m",
      "\u001b[31mNotImplementedError\u001b[39m                       Traceback (most recent call last)",
      "\u001b[36mCell\u001b[39m\u001b[36m \u001b[39m\u001b[32mIn[72]\u001b[39m\u001b[32m, line 1\u001b[39m\n\u001b[32m----> \u001b[39m\u001b[32m1\u001b[39m \u001b[38;5;28;01mraise\u001b[39;00m \u001b[38;5;167;01mNotImplementedError\u001b[39;00m(\u001b[33m'\u001b[39m\u001b[33m:(\u001b[39m\u001b[33m'\u001b[39m)\n",
      "\u001b[31mNotImplementedError\u001b[39m: :("
     ]
    }
   ],
   "source": [
    "raise NotImplementedError(':(')"
   ]
  },
  {
   "cell_type": "markdown",
   "id": "175e7770",
   "metadata": {},
   "source": [
    "### Feature selection "
   ]
  },
  {
   "cell_type": "code",
   "execution_count": 73,
   "id": "f5924536",
   "metadata": {},
   "outputs": [
    {
     "ename": "NotImplementedError",
     "evalue": ":(",
     "output_type": "error",
     "traceback": [
      "\u001b[31m---------------------------------------------------------------------------\u001b[39m",
      "\u001b[31mNotImplementedError\u001b[39m                       Traceback (most recent call last)",
      "\u001b[36mCell\u001b[39m\u001b[36m \u001b[39m\u001b[32mIn[73]\u001b[39m\u001b[32m, line 1\u001b[39m\n\u001b[32m----> \u001b[39m\u001b[32m1\u001b[39m \u001b[38;5;28;01mraise\u001b[39;00m \u001b[38;5;167;01mNotImplementedError\u001b[39;00m(\u001b[33m'\u001b[39m\u001b[33m:(\u001b[39m\u001b[33m'\u001b[39m)\n",
      "\u001b[31mNotImplementedError\u001b[39m: :("
     ]
    }
   ],
   "source": [
    "raise NotImplementedError(':(')"
   ]
  },
  {
   "cell_type": "markdown",
   "id": "524ed4ec",
   "metadata": {},
   "source": [
    "raise NotImplementedError(':(')"
   ]
  },
  {
   "cell_type": "markdown",
   "id": "bfc3c431",
   "metadata": {},
   "source": [
    "## Пробуем регрессию"
   ]
  },
  {
   "cell_type": "code",
   "execution_count": 71,
   "id": "44bddf52",
   "metadata": {},
   "outputs": [
    {
     "ename": "NotImplementedError",
     "evalue": ":(",
     "output_type": "error",
     "traceback": [
      "\u001b[31m---------------------------------------------------------------------------\u001b[39m",
      "\u001b[31mNotImplementedError\u001b[39m                       Traceback (most recent call last)",
      "\u001b[36mCell\u001b[39m\u001b[36m \u001b[39m\u001b[32mIn[71]\u001b[39m\u001b[32m, line 1\u001b[39m\n\u001b[32m----> \u001b[39m\u001b[32m1\u001b[39m \u001b[38;5;28;01mraise\u001b[39;00m \u001b[38;5;167;01mNotImplementedError\u001b[39;00m(\u001b[33m'\u001b[39m\u001b[33m:(\u001b[39m\u001b[33m'\u001b[39m)\n",
      "\u001b[31mNotImplementedError\u001b[39m: :("
     ]
    }
   ],
   "source": [
    "raise NotImplementedError(':(')"
   ]
  }
 ],
 "metadata": {
  "kernelspec": {
   "display_name": ".venv",
   "language": "python",
   "name": "python3"
  },
  "language_info": {
   "codemirror_mode": {
    "name": "ipython",
    "version": 3
   },
   "file_extension": ".py",
   "mimetype": "text/x-python",
   "name": "python",
   "nbconvert_exporter": "python",
   "pygments_lexer": "ipython3",
   "version": "3.12.3"
  }
 },
 "nbformat": 4,
 "nbformat_minor": 5
}
